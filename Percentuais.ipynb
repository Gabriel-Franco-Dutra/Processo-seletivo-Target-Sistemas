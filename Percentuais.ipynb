{
 "cells": [
  {
   "cell_type": "code",
   "execution_count": 5,
   "id": "6cd92381",
   "metadata": {},
   "outputs": [
    {
     "name": "stdout",
     "output_type": "stream",
     "text": [
      "37.52845624346716 16.170548370275323 20.291360952794975 15.028481414968068 10.981153018494469\n"
     ]
    }
   ],
   "source": [
    "import math\n",
    "\n",
    "SP = 67836.43\n",
    "RJ = 36678.66\n",
    "MG = 29229.88\n",
    "ES = 27165.48\n",
    "Outros = 19849.53\n",
    "\n",
    "estados = [SP,RJ,MG,ES,Outros]\n",
    "\n",
    "perc_SP = 100*SP/sum(estados)\n",
    "perc_MG = 100*MG/sum(estados)\n",
    "perc_RJ = 100*RJ/sum(estados)\n",
    "perc_ES = 100*ES/sum(estados)\n",
    "perc_Outros = 100*Outros/sum(estados)\n",
    "\n",
    "print(perc_SP,perc_MG,perc_RJ,perc_ES,perc_Outros)"
   ]
  },
  {
   "cell_type": "code",
   "execution_count": null,
   "id": "ef3f0950",
   "metadata": {},
   "outputs": [],
   "source": []
  }
 ],
 "metadata": {
  "kernelspec": {
   "display_name": "Python 3 (ipykernel)",
   "language": "python",
   "name": "python3"
  },
  "language_info": {
   "codemirror_mode": {
    "name": "ipython",
    "version": 3
   },
   "file_extension": ".py",
   "mimetype": "text/x-python",
   "name": "python",
   "nbconvert_exporter": "python",
   "pygments_lexer": "ipython3",
   "version": "3.9.7"
  }
 },
 "nbformat": 4,
 "nbformat_minor": 5
}
