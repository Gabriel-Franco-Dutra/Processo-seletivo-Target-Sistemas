{
 "cells": [
  {
   "cell_type": "code",
   "execution_count": 16,
   "id": "ad29f424",
   "metadata": {},
   "outputs": [
    {
     "name": "stdout",
     "output_type": "stream",
     "text": [
      "54\n",
      "False\n"
     ]
    }
   ],
   "source": [
    "import numpy as np\n",
    "import matplotlib.pyplot as plt\n",
    "import math\n",
    "\n",
    "\n",
    "def Fibonacci(x):\n",
    "    \n",
    "    F = []\n",
    "    \n",
    "    ultimo = 1\n",
    "    penultimo = 0\n",
    "    \n",
    "    while ultimo < x:\n",
    "        \n",
    "        novo = ultimo + penultimo\n",
    "        \n",
    "        penultimo = ultimo\n",
    "        \n",
    "        ultimo = novo\n",
    "        \n",
    "    if ultimo == x or x == 0:\n",
    "        \n",
    "        return True\n",
    "    return False    \n",
    "    \n",
    "\n",
    "n = int(input())\n",
    "\n",
    "print(Fibonacci(n))\n"
   ]
  }
 ],
 "metadata": {
  "kernelspec": {
   "display_name": "Python 3 (ipykernel)",
   "language": "python",
   "name": "python3"
  },
  "language_info": {
   "codemirror_mode": {
    "name": "ipython",
    "version": 3
   },
   "file_extension": ".py",
   "mimetype": "text/x-python",
   "name": "python",
   "nbconvert_exporter": "python",
   "pygments_lexer": "ipython3",
   "version": "3.9.7"
  }
 },
 "nbformat": 4,
 "nbformat_minor": 5
}
