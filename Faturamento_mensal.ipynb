{
 "cells": [
  {
   "cell_type": "code",
   "execution_count": 17,
   "id": "7995a22b",
   "metadata": {},
   "outputs": [
    {
     "data": {
      "text/plain": [
       "(373.7838, 48924.2448, 10)"
      ]
     },
     "execution_count": 17,
     "metadata": {},
     "output_type": "execute_result"
    }
   ],
   "source": [
    "import numpy as np\n",
    "import math\n",
    "import json\n",
    "\n",
    "arquivo = open('dados.json')\n",
    "\n",
    "data = json.load(arquivo)\n",
    "\n",
    "maximo = 0\n",
    "soma   = 0 \n",
    "feriados = 0\n",
    "dia_bom = 0 \n",
    "\n",
    "\n",
    "for i in data:\n",
    "    \n",
    "    if i['valor'] > maximo:\n",
    "        maximo = i['valor']\n",
    "\n",
    "minimo = maximo\n",
    "    \n",
    "for j in data:\n",
    "    \n",
    "    if j['valor'] < minimo and j['valor'] != 0:\n",
    "        minimo = j['valor']\n",
    "    \n",
    "for i in data:\n",
    "    \n",
    "    if i['valor'] != 0:\n",
    "        soma = i['valor'] + soma\n",
    "    else:\n",
    "        feriados += 1\n",
    "    \n",
    "media = soma/(len(data)-feriados)\n",
    "\n",
    "for i in data:\n",
    "    \n",
    "    if i['valor'] > media:\n",
    "        dia_bom += 1\n",
    "        \n",
    "\n",
    "minimo,maximo,dia_bom"
   ]
  },
  {
   "cell_type": "code",
   "execution_count": null,
   "id": "2359eced",
   "metadata": {},
   "outputs": [],
   "source": []
  }
 ],
 "metadata": {
  "kernelspec": {
   "display_name": "Python 3 (ipykernel)",
   "language": "python",
   "name": "python3"
  },
  "language_info": {
   "codemirror_mode": {
    "name": "ipython",
    "version": 3
   },
   "file_extension": ".py",
   "mimetype": "text/x-python",
   "name": "python",
   "nbconvert_exporter": "python",
   "pygments_lexer": "ipython3",
   "version": "3.9.7"
  }
 },
 "nbformat": 4,
 "nbformat_minor": 5
}
